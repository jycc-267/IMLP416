{
 "cells": [
  {
   "cell_type": "markdown",
   "metadata": {
    "editable": true,
    "slideshow": {
     "slide_type": ""
    },
    "tags": []
   },
   "source": [
    "# Python programming \n",
    "## Crash Course on Python Coding Practice\n",
    "\n",
    "No matter the level of mastery you hope to get to in Python,<br> \n",
    "you'll need these fundamentals in place before you jump into any project.<br><br>\n",
    "\n",
    "You need to know how to:\n",
    "\n",
    "- declare variables\n",
    "- collect user input\n",
    "- store information\n",
    "- repeat an action through loops\n",
    "- write functions to repeat blocks of code\n"
   ]
  },
  {
   "cell_type": "markdown",
   "metadata": {},
   "source": [
    "### 01 - 奇偶數辨別（Odd or even）\n",
    "#### 當使用者輸入一個的數字，它能夠辨別奇偶，並輸出檢驗結果給使用者。\n",
    "\n",
    "> 題目：輸入一數字判斷奇數或偶數<br>\n",
    "輸入(Input): 一個數字 <br>\n",
    "輸出(Output):奇數或偶數\n",
    "\n",
    "* 進階: 可以限制輸入一個介於一定範圍（例如 1 到 1000）的數字"
   ]
  },
  {
   "cell_type": "code",
   "execution_count": 4,
   "metadata": {},
   "outputs": [
    {
     "name": "stdin",
     "output_type": "stream",
     "text": [
      "Enter a number:  1244\n"
     ]
    },
    {
     "name": "stdout",
     "output_type": "stream",
     "text": [
      "input value out of range, try again!\n"
     ]
    },
    {
     "name": "stdin",
     "output_type": "stream",
     "text": [
      "Enter a number:  23\n"
     ]
    },
    {
     "name": "stdout",
     "output_type": "stream",
     "text": [
      "It's an odd number\n"
     ]
    }
   ],
   "source": [
    "while(True):\n",
    "    try:\n",
    "        x = int(input(\"Enter a number: \"))\n",
    "        if 1 <= x <= 1000:\n",
    "            if x % 2 == 0:\n",
    "                print(\"It's an even number\")\n",
    "            else:\n",
    "                print(\"It's an odd number\")\n",
    "            break\n",
    "        else:\n",
    "            raise ValueError(\"input value out of range, try again!\")\n",
    "    except ValueError as e:\n",
    "        print(e)"
   ]
  },
  {
   "cell_type": "markdown",
   "metadata": {},
   "source": [
    "### 02 - 填字遊戲（Mad libs game）\n",
    "#### 使用者輸入任何字，它可以是名詞、形容詞、動詞、代名詞等。程式得到文字後，可自行排列，組成成一個模板故事。\n",
    "\n",
    "> 題目：輸入一數字判斷奇數或偶數<br>\n",
    "輸入(Input): 一連串依據說明輸入對應文字 <br>\n",
    "輸出(Output): 模板故事\n",
    "\n",
    "* 進階: 可以讓程式重複執行"
   ]
  },
  {
   "cell_type": "code",
   "execution_count": 6,
   "metadata": {},
   "outputs": [
    {
     "name": "stdin",
     "output_type": "stream",
     "text": [
      "請問需要建造幾次模板故事 3\n",
      "請輸入課程期數 416\n",
      "請輸入課程名稱 ML\n",
      "請輸入姓名 Jimmy\n",
      "請輸入您的背景(科系或職業) Political Science\n"
     ]
    },
    {
     "name": "stdout",
     "output_type": "stream",
     "text": [
      "第416期 - ML\n",
      "姓名：Jimmy\n",
      "背景：Political Science\n",
      "第416期 - ML\n",
      "姓名：Jimmy\n",
      "背景：Political Science\n",
      "第416期 - ML\n",
      "姓名：Jimmy\n",
      "背景：Political Science\n"
     ]
    }
   ],
   "source": [
    "round = int(input(\"請問需要建造幾次模板故事\"))\n",
    "id = input(\"請輸入課程期數\")\n",
    "title = input(\"請輸入課程名稱\")\n",
    "name = input(\"請輸入姓名\")\n",
    "background = input(\"請輸入您的背景(科系或職業)\")\n",
    "\n",
    "for i in range(round):\n",
    "    print(\"第{}期 - {}\".format(id, title))\n",
    "    print(\"姓名：{}\".format(name))\n",
    "    print(\"背景：{}\".format(background))"
   ]
  },
  {
   "cell_type": "markdown",
   "metadata": {},
   "source": [
    "### 03 -  猜數字（Guess the number）\n",
    "#### 請使用者猜一個介於範圍（例如 1 到 100）之間的數字，\n",
    "#### 若使用者猜錯，就詢問他們想繼續玩還是退出；若使用者猜對，就顯示祝賀訊息，\n",
    "#### 並統計使用者的嘗試次數。如果使用者輸入的數字超出設定範圍，就顯示錯誤提示。\n",
    "\n",
    "![](data\\guess.png)\n"
   ]
  },
  {
   "cell_type": "code",
   "execution_count": 10,
   "metadata": {},
   "outputs": [
    {
     "name": "stdout",
     "output_type": "stream",
     "text": [
      "(1, 100)? Inclusive.\n"
     ]
    },
    {
     "name": "stdin",
     "output_type": "stream",
     "text": [
      " 23\n"
     ]
    },
    {
     "name": "stdout",
     "output_type": "stream",
     "text": [
      "The number is greater than 23.\n",
      "(24, 100)?\n"
     ]
    },
    {
     "name": "stdin",
     "output_type": "stream",
     "text": [
      " 67\n"
     ]
    },
    {
     "name": "stdout",
     "output_type": "stream",
     "text": [
      "The number is greater than 67.\n",
      "(68, 100)?\n"
     ]
    },
    {
     "name": "stdin",
     "output_type": "stream",
     "text": [
      " 78\n"
     ]
    },
    {
     "name": "stdout",
     "output_type": "stream",
     "text": [
      "The number is less than 78.\n",
      "(68, 77)?\n"
     ]
    },
    {
     "name": "stdin",
     "output_type": "stream",
     "text": [
      " 89\n"
     ]
    },
    {
     "name": "stdout",
     "output_type": "stream",
     "text": [
      "Out of Range! Try Again?\n"
     ]
    },
    {
     "name": "stdin",
     "output_type": "stream",
     "text": [
      " 45\n"
     ]
    },
    {
     "name": "stdout",
     "output_type": "stream",
     "text": [
      "Out of Range! Try Again?\n"
     ]
    },
    {
     "name": "stdin",
     "output_type": "stream",
     "text": [
      " 73\n"
     ]
    },
    {
     "name": "stdout",
     "output_type": "stream",
     "text": [
      "The number is less than 73.\n",
      "(68, 72)?\n"
     ]
    },
    {
     "name": "stdin",
     "output_type": "stream",
     "text": [
      " 70\n"
     ]
    },
    {
     "name": "stdout",
     "output_type": "stream",
     "text": [
      "The number is less than 70.\n",
      "(68, 69)?\n"
     ]
    },
    {
     "name": "stdin",
     "output_type": "stream",
     "text": [
      " 69\n"
     ]
    },
    {
     "name": "stdout",
     "output_type": "stream",
     "text": [
      "GG TAT. The number is 68.\n",
      "You have used 8 time(s)\n"
     ]
    }
   ],
   "source": [
    "import random\n",
    "\n",
    "def main():\n",
    "    # Generate a random number inclusively between 1 and 100\n",
    "    answer = random.randint(1, 100)\n",
    "    # Initialize the upper and lower range\n",
    "    lowerRange, upperRange = 1, 100\n",
    "    count = 0\n",
    "    \n",
    "    print(f\"({lowerRange}, {upperRange})? Inclusive.\")\n",
    "    \n",
    "    while True:\n",
    "        try:\n",
    "            guess = int(input())\n",
    "            \n",
    "            if guess == answer: \n",
    "                count += 1\n",
    "                print(\"Bingo!\")  # The winning scenario\n",
    "                break\n",
    "            elif guess < answer and guess >= lowerRange:\n",
    "                count += 1\n",
    "                lowerRange = guess + 1\n",
    "                if upperRange == lowerRange:\n",
    "                    print(f\"GG TAT. The number is {answer}.\")  # The losing scenario\n",
    "                    break\n",
    "                print(f\"The number is greater than {guess}.\")\n",
    "                print(f\"({lowerRange}, {upperRange})?\")\n",
    "            elif guess > answer and guess <= upperRange:\n",
    "                count += 1\n",
    "                upperRange = guess - 1\n",
    "                if upperRange == lowerRange:\n",
    "                    print(f\"GG TAT. The number is {answer}.\")  # The losing scenario\n",
    "                    break\n",
    "                print(f\"The number is less than {guess}.\")\n",
    "                print(f\"({lowerRange}, {upperRange})?\")\n",
    "            elif guess > upperRange or guess < lowerRange:\n",
    "                count += 1\n",
    "                print(\"Out of Range! Try Again?\")\n",
    "        except ValueError:\n",
    "            print(\"Invalid input. Please enter a valid number.\")\n",
    "    print(f\"You have used {count} time(s)\")\n",
    "\n",
    "if __name__ == \"__main__\":\n",
    "    main()"
   ]
  },
  {
   "cell_type": "markdown",
   "metadata": {},
   "source": [
    "### 04 - 計算字數（Word count）\n",
    "#### 使用者輸入一段文字或讀取一檔案，程式統計字數。\n",
    "\n",
    "> 輸入(Input):我要成為寫程式的專家 <br>\n",
    "輸出(Output):你用了 10 個文字述說內心的想法\n",
    "\n",
    "#### 在特定的文章字串中搜尋輸入的特定字，請使用者輸入欲搜尋的文字，印出總共有幾個。<br>\n",
    ">輸入(Input):天<br>\n",
    "輸出(Output): 9\n",
    "\n",
    "* 進階:計算文章中去除標點符號後的字數，找出文章中出現最多的字與次數"
   ]
  },
  {
   "cell_type": "code",
   "execution_count": 30,
   "metadata": {},
   "outputs": [
    {
     "name": "stdin",
     "output_type": "stream",
     "text": [
      " good\n"
     ]
    },
    {
     "name": "stdout",
     "output_type": "stream",
     "text": [
      "你用了 4 個文字述說內心的想法\n",
      "------------------------------------------\n"
     ]
    },
    {
     "name": "stdin",
     "output_type": "stream",
     "text": [
      "Enter a Chinese character:  天\n"
     ]
    },
    {
     "name": "stdout",
     "output_type": "stream",
     "text": [
      "9\n",
      "------------------------------------------\n",
      "漢皇重色思傾國御宇多年求不得楊家有女初長成養在深閏人未識天生麗質難自棄一朝選在君王側回眸一笑百媚生六宮粉黛無顏色春寒賜浴華清池溫泉水滑洗凝脂侍兒扶起嬌無力始是新承恩澤時雲鬢花顏金步搖芙蓉帳暖度春宵春宵苦短日高起從此君王不早朝承歡侍宴無閑暇春從春遊夜專夜後宮佳麗三千人三千寵愛在一身金屋妝成嬌侍夜玉樓宴罷醉和春姊妹弟兄皆列士可憐光彩生門戶遂令天下父母心不重生男重生女驪宮高處入青雲仙樂風飄處處聞緩歌慢舞凝絲竹盡日君王看不足漁陽鼙鼓動地來驚破霓裳羽衣曲九重城闕煙塵生千乘萬騎西南行翠華搖搖行復止西出都門百餘里六軍不發無奈何宛轉蛾眉馬前死花鈿委地無人收翠翹金雀玉搔頭君王掩面救不得回看血淚相和流黃埃散漫風蕭索雲棧縈紆登劍閣峨嵋山下少人行旌旗無光日色薄蜀江水碧蜀山青聖主朝朝暮暮情行宮見月傷心色夜雨聞鈴腸斷聲天旋地轉迴龍馭到此躊躇不能去馬嵬坡下泥土中不見玉顏空死處君臣相顧盡霑衣東望都門信馬歸歸來池苑皆依舊太液芙蓉未央柳芙蓉如面柳如眉對此如何不淚垂春風桃李花開日秋雨梧桐葉落時西宮南內多秋草落葉滿階紅不掃梨園子弟白髮新椒房阿監青娥老夕殿螢飛思悄然孤燈挑盡未成眠遲遲鐘鼓初長夜耿耿星河欲曙天鴛鴦瓦冷霜華重翡翠衾寒誰與共悠悠生死別經年魂魄不曾來入夢臨邛道士鴻都客能以精誠致魂魄為感君王輾轉思遂教方士殷勤覓排空馭氣奔如電升天入地求之遍上窮碧落下黃泉兩處茫茫皆不見忽聞海上有仙山山在虛無縹緲間樓閣玲瓏五雲起其中綽約多仙子中有一人字太真雪膚花貌參差是金闕西廂叩玉扃轉教小玉報雙成聞道漢家天子使九華帳裡夢魂驚攬衣推枕起徘徊珠箔銀屏迤邐開雲鬢半偏新睡覺花冠不整下堂來風吹仙袂飄飄舉猶似霓裳羽衣舞玉容寂寞淚闌干梨花一枝春帶雨含情凝睇謝君王一別音容兩渺茫昭陽殿裡恩愛絕蓬萊宮中日月長回頭下望人寰處不見長安見塵霧唯將舊物表深情鈿合金釵寄將去釵留一股合一扇釵擘黃金合分鈿但教心似金鈿堅天上人間會相見臨別殷勤重寄詞詞中有誓兩心知七月七日長生殿夜半無人私語時在天願作比翼鳥在地願為連理枝天長地久有時盡此恨綿綿無絕期\n",
      "文章總字數: 840\n",
      "不 14\n"
     ]
    }
   ],
   "source": [
    "from zhon.hanzi import punctuation\n",
    "word = input()\n",
    "print(\"你用了 %d 個文字述說內心的想法\"%(len(word)))\n",
    "\n",
    "\n",
    "s = '''漢皇重色思傾國，御宇多年求不得。\n",
    "楊家有女初長成，養在深閏人未識。\n",
    "天生麗質難自棄，一朝選在君王側。\n",
    "回眸一笑百媚生，六宮粉黛無顏色。\n",
    "春寒賜浴華清池，溫泉水滑洗凝脂；\n",
    "侍兒扶起嬌無力，始是新承恩澤時。\n",
    "雲鬢花顏金步搖，芙蓉帳暖度春宵；\n",
    "春宵苦短日高起，從此君王不早朝。\n",
    "承歡侍宴無閑暇，春從春遊夜專夜。\n",
    "後宮佳麗三千人，三千寵愛在一身。\n",
    "金屋妝成嬌侍夜，玉樓宴罷醉和春。\n",
    "姊妹弟兄皆列士，可憐光彩生門戶。\n",
    "遂令天下父母心，不重生男重生女。\n",
    "驪宮高處入青雲，仙樂風飄處處聞。\n",
    "緩歌慢舞凝絲竹，盡日君王看不足。\n",
    "漁陽鼙鼓動地來，驚破霓裳羽衣曲。\n",
    "九重城闕煙塵生，千乘萬騎西南行。\n",
    "翠華搖搖行復止，西出都門百餘里；\n",
    "六軍不發無奈何？宛轉蛾眉馬前死。\n",
    "花鈿委地無人收，翠翹金雀玉搔頭。\n",
    "君王掩面救不得，回看血淚相和流。\n",
    "黃埃散漫風蕭索，雲棧縈紆登劍閣。\n",
    "峨嵋山下少人行，旌旗無光日色薄。\n",
    "蜀江水碧蜀山青，聖主朝朝暮暮情。\n",
    "行宮見月傷心色，夜雨聞鈴腸斷聲。\n",
    "天旋地轉迴龍馭，到此躊躇不能去。\n",
    "馬嵬坡下泥土中，不見玉顏空死處。\n",
    "君臣相顧盡霑衣，東望都門信馬歸。\n",
    "歸來池苑皆依舊，太液芙蓉\n",
    "未央柳；\n",
    "芙蓉如面柳如眉，對此如何不淚垂？\n",
    "春風桃李花開日，秋雨梧桐葉落時。\n",
    "西宮南內多秋草，落葉滿階紅不掃。\n",
    "梨園子弟白髮新，椒房阿監青娥老。\n",
    "夕殿螢飛思悄然，孤燈挑盡未成眠。\n",
    "遲遲鐘鼓初長夜，耿耿星河欲曙天。\n",
    "鴛鴦瓦冷霜華重，翡翠衾寒誰與共？\n",
    "悠悠生死別經年，魂魄不曾來入夢。\n",
    "臨邛道士鴻都客，能以精誠致魂魄；\n",
    "為感君王輾轉思，遂教方士殷勤覓。\n",
    "排空馭氣奔如電，升天入地求之遍；\n",
    "上窮碧落下黃泉，兩處茫茫皆不見。\n",
    "忽聞海上有仙山，山在虛無縹緲間。\n",
    "樓閣玲瓏五雲起，其中綽約多仙子。\n",
    "中有一人字太真，雪膚花貌參差是。\n",
    "金闕西廂叩玉扃，轉教小玉報雙成。\n",
    "聞道漢家天子使，九華帳裡夢魂驚；\n",
    "攬衣推枕起徘徊，珠箔銀屏迤邐開。\n",
    "雲鬢半偏新睡覺，花冠不整下堂來。\n",
    "風吹仙袂飄飄舉，猶似霓裳羽衣舞。\n",
    "玉容寂寞淚闌干，梨花一枝春帶雨。\n",
    "含情凝睇謝君王，一別音容兩渺茫。\n",
    "昭陽殿裡恩愛絕，蓬萊宮中日月長。\n",
    "回頭下望人寰處，不見長安見塵霧。\n",
    "唯將舊物表深情，鈿合金釵寄將去。\n",
    "釵留一股合一扇，釵擘黃金合分鈿。\n",
    "但教心似金鈿堅，天上人間會相見。\n",
    "臨別殷勤重寄詞，詞中有誓兩心知，\n",
    "七月七日長生殿，夜半無人私語時：「\n",
    "在天願作比翼鳥，在地願為連理枝。」\n",
    "天長地久有時盡，此恨綿綿無絕期。\n",
    "'''\n",
    "\n",
    "print (\"------------------------------------------\")\n",
    "x = input(\"Enter a Chinese character: \")\n",
    "num = s.count(x)\n",
    "print(num)\n",
    "\n",
    "print (\"------------------------------------------\")\n",
    "for i in \"，。：；「」？\\n\":\n",
    "    s = s.replace(i, \"\")\n",
    "\n",
    "print(s)\n",
    "maxstr = \"\"\n",
    "maxstr_num = 0\n",
    "print('文章總字數:', len(s))\n",
    "\n",
    "for astr in s:\n",
    "    act = s.count(astr)\n",
    "    \n",
    "    if act > maxstr_num:\n",
    "        maxstr = astr\n",
    "        maxstr_num = act\n",
    "\n",
    "print(maxstr, maxstr_num )"
   ]
  },
  {
   "cell_type": "markdown",
   "metadata": {},
   "source": [
    "### 05 - Email 域名判斷器（Email slicer）\n",
    "#### 請用戶輸入 Email 地址，然後判斷它是自定義域名還是熱門域名。\n",
    "\n",
    "> 題目：<br>\n",
    "輸入(Input):shelly200318@hotmail.com.tw  <br>\n",
    "輸出(Output):Your username is 'shelly200318' and your domain name is 'hotmail.com.tw' <br>\n",
    "\n",
    "\n",
    "* 進階：把常用的信箱存成字典，加入判斷是否為\n",
    ">輸入(Input):mary.jane@gmail.com  <br>\n",
    "輸出(Output):這是註冊在 Google 之下的 Email 地址 <br>\n",
    "輸入(Input):matt.pan@myfantasy.com  <br>\n",
    "輸出(Output):這是在 myfantasy 之下自定義域\n",
    "\n"
   ]
  },
  {
   "cell_type": "code",
   "execution_count": 31,
   "metadata": {},
   "outputs": [
    {
     "name": "stdin",
     "output_type": "stream",
     "text": [
      "What is your email address?:  jycc267@gmail.com\n"
     ]
    },
    {
     "name": "stdout",
     "output_type": "stream",
     "text": [
      "Your username is 'jycc267' and your domain name is 'gmail.com'\n",
      "這是註冊在 Google 之下的 Email 地址'\n"
     ]
    }
   ],
   "source": [
    "# Get user email address\n",
    "email = input(\"What is your email address?: \").strip()\n",
    "\n",
    "# Slice out the user name\n",
    "user_name = email[:email.index(\"@\")]\n",
    "\n",
    "# Slice the domain name\n",
    "domain_name = email[email.index(\"@\")+1:len(email)]\n",
    "\n",
    "# Format message\n",
    "output = \"Your username is '{}' and your domain name is '{}'\".format(user_name,domain_name)\n",
    "\n",
    "# Display output message\n",
    "print(output)\n",
    "\n",
    "\n",
    "domain = {'gmail.com':'Google','yahoo.com.tw':'Yahoo','ntu.edu.tw':'臺大','hotmail.com.tw':'Hotmail','hotmail.com':'Hotmail'}\n",
    "if domain_name in domain:\n",
    "    output = \"這是註冊在 {} 之下的 Email 地址'\".format(domain[domain_name])\n",
    "else:\n",
    "    \n",
    "    output = \"這是在 {} 之下自定義域\".format(domain[domain_name])\n",
    "print(output)"
   ]
  },
  {
   "cell_type": "markdown",
   "metadata": {},
   "source": [
    "### 06 - 及格名單（Pass list）\n",
    "#### 請使用集合功能來完成各科級名單的判斷\n",
    "```\n",
    "米花市帝丹小學一年级B班正舉辦期中考試\n",
    "數學及格的有：柯南、灰原、步美、美環、光彦\n",
    "英文及格的有：柯南、灰原、丸尾、野口、步美\n",
    "以上已列出全班所有人\n",
    "```\n",
    "\n",
    ">請分別列出<br>\n",
    "數學及格但英文不及格的同學名單<br>\n",
    "數學不及格但英文及格的同學名單<br>\n",
    "兩者皆及格名單<br>\n",
    "* Hint:差集(減法)、交集\n"
   ]
  },
  {
   "cell_type": "code",
   "execution_count": 34,
   "metadata": {},
   "outputs": [
    {
     "name": "stdout",
     "output_type": "stream",
     "text": [
      "數學及格英文不及格：['光彦', '美環']\n",
      "英文及格數學不及格：['丸尾', '野口']\n",
      "皆及格：['柯南', '步美', '灰原']\n"
     ]
    }
   ],
   "source": [
    "m={'柯南','灰原','步美','美環','光彦'}\n",
    "e={'柯南','灰原','丸尾','野口','步美'}\n",
    "a=m.intersection(e)\n",
    "b=m.difference(a)\n",
    "c=e.difference(a)\n",
    "a1=list(a)\n",
    "b1=list(b)\n",
    "c1=list(c)\n",
    "b1.sort()\n",
    "print(\"數學及格英文不及格：{}\".format(b1))\n",
    "c1.sort()\n",
    "print(\"英文及格數學不及格：{}\".format(c1))\n",
    "a1.sort()\n",
    "print(\"皆及格：{}\".format(a1))"
   ]
  },
  {
   "cell_type": "markdown",
   "metadata": {},
   "source": [
    "### 07 - 查詢路徑下所有檔案\n",
    "#### 請使用者輸入路徑，自動抓取路徑下所有檔案名稱\n",
    "\n",
    ">輸入(Input):data\\testfile 或 D:\\code\\ML_202105\\data\\testfile  <br>\n",
    "輸出(Output):\n",
    "```\n",
    "I'm a directory: file1\n",
    "I'm a directory: file2\n",
    "I'm a File: hw_07945001.txt\n",
    "I'm a File: hw_079450010.doc\n",
    "I'm a File: hw_07945002.txt\n",
    "I'm a File: hw_07945003.txt\n",
    "I'm a File: hw_07945004.txt\n",
    "I'm a File: hw_07945005.txt\n",
    "I'm a File: hw_07945007.txt\n",
    "I'm a File: hw_07945008.txt\n",
    "I'm a File: hw_07945009.txt\n",
    "```\n",
    "\n",
    "* 進階: 把file的學號抓出來，另存成一個新的csv檔"
   ]
  },
  {
   "cell_type": "code",
   "execution_count": 41,
   "metadata": {},
   "outputs": [
    {
     "name": "stdin",
     "output_type": "stream",
     "text": [
      " ./testfile\n"
     ]
    },
    {
     "name": "stdout",
     "output_type": "stream",
     "text": [
      "I'm a File: hw_079450010.doc\n",
      "I'm a directory: file2\n",
      "I'm a File: hw_07945009.txt\n",
      "I'm a File: hw_07945008.txt\n",
      "I'm a File: hw_07945007.txt\n",
      "I'm a File: hw_07945005.txt\n",
      "I'm a File: hw_07945004.txt\n",
      "I'm a File: hw_07945001.txt\n",
      "I'm a File: hw_07945003.txt\n",
      "I'm a File: hw_07945002.txt\n",
      "I'm a directory: file1\n",
      "['079450010', '07945009', '07945008', '07945007', '07945005', '07945004', '07945001', '07945003', '07945002']\n"
     ]
    }
   ],
   "source": [
    "import os\n",
    "\n",
    "# 請使用者輸入或指定要查詢的路徑: ./testfile\n",
    "yourPath = input()\n",
    "# 列出指定路徑底下所有檔案(包含資料夾)\n",
    "allFileList = os.listdir(yourPath)\n",
    "id = []\n",
    "\n",
    "# 逐一查詢檔案清單\n",
    "for file in allFileList:\n",
    "#   這邊也可以視情況，做檔案的操作(複製、讀取...等)\n",
    "#   使用isdir檢查是否為目錄\n",
    "#   使用join的方式把路徑與檔案名稱串起來(等同filePath+fileName)\n",
    "    if os.path.isdir(os.path.join(yourPath,file)):\n",
    "        print(\"I'm a directory: \" + file)\n",
    "    #   使用isfile判斷是否為檔案\n",
    "    elif os.path.isfile(os.path.join(yourPath,file)):\n",
    "        print(\"I'm a File: \" + file)\n",
    "        id.append(file[file.index(\"_\") + 1 : file.index(\".\")])\n",
    "print(id)"
   ]
  },
  {
   "cell_type": "markdown",
   "metadata": {},
   "source": [
    "### 08 - 資料夾管理(shutil)\n",
    "#### 說明 ####\n",
    "\n",
    "```\n",
    "在目前所在的目錄下建立一files資料夾\n",
    "\n",
    "令使用者輸入一數字N，並在files資料夾中建立f1, f2… fN等N個資料夾後列出files的資料夾內容\n",
    "\n",
    "將files資料夾裡的f1資料夾重新命名成folder1後再列出files的資料夾內容\n",
    "\n",
    "移除files資料夾中的folder1後再列出files的資料夾內容\n",
    "\n",
    "最後移除files資料夾\n",
    "※須先退出files資料夾(os.chdir(../)) ![image.png](attachment:image.png)\n",
    "```\n"
   ]
  },
  {
   "cell_type": "code",
   "execution_count": 52,
   "metadata": {},
   "outputs": [
    {
     "name": "stdin",
     "output_type": "stream",
     "text": [
      " 2\n"
     ]
    },
    {
     "name": "stdout",
     "output_type": "stream",
     "text": [
      "['f1', 'f2']\n",
      "['f2', 'folder1']\n",
      "['f2']\n"
     ]
    }
   ],
   "source": [
    "import os\n",
    "import shutil\n",
    "\n",
    "if os.path.exists('files'):\n",
    "    shutil.rmtree('files') # remove a file tree\n",
    "os.mkdir('files') # create a file\n",
    "os.chdir('files') # change directory\n",
    "\n",
    "n = int(input())\n",
    "for i in range(1, n+1):\n",
    "    os.mkdir(\"f\"+str(i))\n",
    "print(sorted(os.listdir())) # list all elements inside a directory\n",
    "os.rename(\"f1\", \"folder1\")\n",
    "print(sorted(os.listdir()))\n",
    "os.rmdir(\"folder1\") # remove a directory\n",
    "print(sorted(os.listdir()))\n",
    "os.chdir(\"../\")\n",
    "shutil.rmtree('files')"
   ]
  },
  {
   "cell_type": "markdown",
   "metadata": {},
   "source": [
    "### 09 - 回文判斷（Is a palindrome）\n",
    "#### 請使用者輸入單字，判斷它是否為回文，也就是該單字前後對稱，例如 madam，從前讀到後或是從後讀到前的順序都是 madam。\n",
    "\n",
    "> 題目：<br>\n",
    "輸入(Input): 雨 滋 春 樹 碧 連 天  天 連 碧 樹 春 滋 雨 <br>\n",
    "輸出(Output):The text you have entered is a palindrome!<br>\n",
    "輸入(Input): 資工訓練班 <br>\n",
    "輸出(Output):The text you have entered is not a palindrome.\n"
   ]
  },
  {
   "cell_type": "code",
   "execution_count": 32,
   "metadata": {},
   "outputs": [
    {
     "name": "stdout",
     "output_type": "stream",
     "text": [
      "\n",
      "Palindrome checker\n",
      "\n",
      "Please enter a word, phrase, or a sentence \n",
      "to check if it is a palindrome: 雨 滋 春 樹 碧 連 天  天 連 碧 樹 春 滋 雨\n",
      "The text you have entered is a palindrome!\n"
     ]
    }
   ],
   "source": [
    "def convertInputString():\n",
    "    #請使用者輸入一串字串，先轉換字串為統一小寫\n",
    "    rawInput = input(\"\\nPlease enter a word, phrase, or a sentence \\nto check if it is a palindrome: \") \n",
    "    return ???\n",
    "\n",
    "def stripAnalphabetics(dirtyList): \n",
    "    analphabeticList = [\" \", \"-\", \".\", \",\", \":\", \";\", \"!\", \"?\", \"'\", \"\\\"\"] \n",
    "    #去除相關標點符號\n",
    "    return ???\n",
    "\n",
    "def runPalindromeCheck(straightList):\n",
    "    reversedList = straightList[::-1] \n",
    "    if ????: \n",
    "        return \"The text you have entered is a palindrome!\" \n",
    "    else: \n",
    "        return \"The text you have entered is not a palindrome.\" \n",
    "\n",
    "def main(): \n",
    "    print(\"\\nPalindrome checker\") \n",
    "\n",
    "\n",
    "main() "
   ]
  },
  {
   "cell_type": "markdown",
   "metadata": {},
   "source": [
    "### 10 - 總成績計算\n",
    "#### 說明 ####\n",
    "\n",
    "請讀取 `data/english_list.csv`與`data/math_list.csv`檔案(`utf-8`)後，將每位同學的英文與數學成績加總起來，並將檔案寫入至 `./Score.csv`中，編碼成`utf-8`<br>\n",
    "最後列印出每位學生姓名與加總後的分數<br>\n",
    "<a href=\"data\\english_list.csv\">英文成績下載</a><br>\n",
    "<a href=\"data\\math_list.csv\">數學成績下載</a><br>\n",
    "\n",
    "#### Input Format ####\n",
    "\n",
    "<br>\n",
    "csv資料(英文成績)<br>\n",
    "csv資料(數學成績)<br>\n",
    "<br>\n",
    "\n",
    "#### Output Format ####\n",
    "\n",
    "<br>\n",
    "\n",
    "![](data\\05.JPG)<br>\n",
    "<br>\n",
    "<br>\n",
    "(圖片參考用 以文字敘述為準)<br>\n",
    "\n",
    "\n",
    "\n",
    "\n",
    "#### Sample Input 1####\n",
    "\n",
    "\n",
    "\n",
    "```\n",
    "無標準輸入，只有檔案輸入\n",
    "```\n",
    "\n",
    "\n",
    "\n",
    "#### Sample Output 1####\n",
    "\n",
    "\n",
    "```\n",
    "廖冠霖 142\n",
    "王力中 124\n",
    "張平舜 108\n",
    ".\n",
    ".\n",
    ".\n",
    ".\n",
    ".\n",
    "陳姿茜 77\n",
    "涂珮瑜 134\n",
    "夏明哲 111\n",
    "\n",
    "```\n",
    "\n",
    "\n",
    "#### Hint ####\n",
    "\n",
    "\n",
    "\n",
    "```\n",
    "None\n",
    "```\n"
   ]
  },
  {
   "cell_type": "code",
   "execution_count": 36,
   "metadata": {},
   "outputs": [
    {
     "name": "stdout",
     "output_type": "stream",
     "text": [
      "廖冠霖 142\n",
      "王力中 124\n",
      "張平舜 108\n",
      "洪婷婷 128\n",
      "林士雨 86\n",
      "陳宗翰 28\n",
      "洪偉珊 134\n",
      "顏又芹 32\n",
      "王亦夏 55\n",
      "姚成華 77\n",
      "潘詠月 144\n",
      "倪浩迪 163\n",
      "郭心怡 109\n",
      "黃政聖 99\n",
      "顏曉雲 135\n",
      "彭曉雯 77\n",
      "葉健仁 117\n",
      "賴軒年 167\n",
      "韓致遠 52\n",
      "陳常芝 80\n",
      "黃佩樺 108\n",
      "林詩虹 178\n",
      "黃心卿 96\n",
      "郭奕全 101\n",
      "游子揚 127\n",
      "杜茜行 107\n",
      "李美一 64\n",
      "陳姿茜 77\n",
      "涂珮瑜 134\n",
      "夏明哲 111\n"
     ]
    },
    {
     "data": {
      "text/plain": [
       "'\\nline=\\'\\'\\nfout = open(\"Score.csv\",\"r\")\\nfor i in (len(name)):\\n    print()\\n'"
      ]
     },
     "execution_count": 36,
     "metadata": {},
     "output_type": "execute_result"
    }
   ],
   "source": [
    "fin_E = open(??????,\"r\",encoding='UTF-8')\n",
    "fin_M = open(??????,\"r\",encoding='UTF-8')\n",
    "lisE=[]\n",
    "lisM=[]\n",
    "name=[]\n",
    "for line in fin_E.readlines():\n",
    "    line = line.strip().split(\",\")\n",
    "    ???\n",
    "    ???\n",
    "    \n",
    "for line in fin_M.readlines():\n",
    "    line = line.strip().split(\",\")\n",
    "    ???\n",
    "    \n",
    "score=[]\n",
    "fout = open(\"Score.csv\",\"w\")\n",
    "line=''\n",
    "for i in range(???,???):\n",
    "    score.append(int(lisE[i])+int(lisM[i]))\n",
    "    list1 = [name[i],str(score[i-1]),\"\\n\"]\n",
    "    print(name[i],str(score[i-1]))\n",
    "    \n",
    "    line = \",\".join(list1)\n",
    "    fout.write(line)\n",
    "fin_E.close()\n",
    "fin_M.close()\n",
    "fout.close()\n",
    "'''\n",
    "line=''\n",
    "fout = open(\"Score.csv\",\"r\")\n",
    "for i in (len(name)):\n",
    "    print()\n",
    "'''\n"
   ]
  },
  {
   "cell_type": "code",
   "execution_count": null,
   "metadata": {},
   "outputs": [],
   "source": []
  }
 ],
 "metadata": {
  "kernelspec": {
   "display_name": "Python 3 (ipykernel)",
   "language": "python",
   "name": "python3"
  },
  "language_info": {
   "codemirror_mode": {
    "name": "ipython",
    "version": 3
   },
   "file_extension": ".py",
   "mimetype": "text/x-python",
   "name": "python",
   "nbconvert_exporter": "python",
   "pygments_lexer": "ipython3",
   "version": "3.8.17"
  }
 },
 "nbformat": 4,
 "nbformat_minor": 4
}
